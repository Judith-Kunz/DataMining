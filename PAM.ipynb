{
 "cells": [
  {
   "cell_type": "markdown",
   "metadata": {},
   "source": [
    "### Partitioning Around Medoids (PAM) - Compactness\n",
    "Exercise for the course \"Data Mining: Basic concepts\" at the University of Konstanz (GER)\n",
    "                  \n",
    "#### Authors: Gunda Ehmke, Judith Kunz"
   ]
  },
  {
   "cell_type": "code",
   "execution_count": null,
   "metadata": {},
   "outputs": [],
   "source": [
    "import pandas as pd \n",
    "import numpy as np \n",
    "from pyclustering.cluster.kmedoids import kmedoids\n",
    "from scipy.spatial.distance import pdist #, cdist, squareform\n",
    "from random import randrange"
   ]
  },
  {
   "cell_type": "code",
   "execution_count": null,
   "metadata": {},
   "outputs": [],
   "source": [
    "def compactnessPAM(data, instance):\n",
    "    '''\n",
    "    This function takes a numpy array and a kmedoids instance (see pyclustering.cluster.kmedoids)\n",
    "    and returns the compactness of the PAM clustering. \n",
    "    \n",
    "    Input\n",
    "    data: two dimensional numpy dataframe\n",
    "    instance: kmedoids instance created with the function kmedoids from the pyclustering library\n",
    "    \n",
    "    Output:\n",
    "    TD: compactness of PAM clustering as sum of distances\n",
    "    '''\n",
    "    \n",
    "    clusters = instance.get_clusters() # get clusters\n",
    "    medoids = instance.get_medoids() # get medoids\n",
    "    distances = []  # empty list for the distances\n",
    "    index = 0\n",
    "    for inner_list in clusters:  # iterate through the clusters\n",
    "        distance = 0\n",
    "        for i in inner_list:\n",
    "            compare_list = [data[i].tolist(), data[medoids[index]].tolist()]\n",
    "            dist = pdist(compare_list, 'euclidean')\n",
    "            distance += dist[0]\n",
    "        distances.append(distance)\n",
    "        index += 1\n",
    "        \n",
    "    TD = sum(distances) # compactness is the sum of all distances\n",
    "    return(TD)"
   ]
  },
  {
   "cell_type": "code",
   "execution_count": null,
   "metadata": {},
   "outputs": [],
   "source": [
    "def completePAM(df, k):\n",
    "    '''\n",
    "    This function takes a pandas dataframe and a integer k and computes the PAM clustering with the given data.\n",
    "    I.o.t. compute compactness, the respective function form above is called.\n",
    "    \n",
    "    Input:\n",
    "    df: pandas dataframe\n",
    "    k: integer, number of clusters \n",
    "    \n",
    "    Output:\n",
    "    TD: compactness as sum of distances (see above)\n",
    "    '''\n",
    "    no_rows = len(df.index)\n",
    "    data = df.to_numpy()\n",
    "    startpoints = [] # empty list for starting points\n",
    "    for i in range(k):\n",
    "        ran_num = randrange(no_rows) #choose random number in dataset \n",
    "        startpoints.append(ran_num)\n",
    "    \n",
    "    kmedoids_instance = kmedoids(data, startpoints) #create instance for kmedoid algorithm\n",
    "    kmedoids_instance.process() #analysis\n",
    "\n",
    "    TD = compactnessPAM(data, kmedoids_instance) # call compactness function\n",
    "    return(TD)"
   ]
  }
 ],
 "metadata": {
  "kernelspec": {
   "display_name": "Python 3",
   "language": "python",
   "name": "python3"
  },
  "language_info": {
   "codemirror_mode": {
    "name": "ipython",
    "version": 3
   },
   "file_extension": ".py",
   "mimetype": "text/x-python",
   "name": "python",
   "nbconvert_exporter": "python",
   "pygments_lexer": "ipython3",
   "version": "3.7.3"
  }
 },
 "nbformat": 4,
 "nbformat_minor": 2
}
